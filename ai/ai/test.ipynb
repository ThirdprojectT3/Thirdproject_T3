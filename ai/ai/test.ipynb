{
 "cells": [
  {
   "cell_type": "code",
   "execution_count": 7,
   "id": "6ce77f3a",
   "metadata": {},
   "outputs": [],
   "source": [
    "from dotenv import load_dotenv\n",
    "import os\n",
    "\n",
    "load_dotenv()  # .env 파일 자동으로 루트에서 찾아서 로드\n",
    "api_key = os.getenv(\"OPENAI_API_KEY\")"
   ]
  },
  {
   "cell_type": "code",
   "execution_count": 11,
   "id": "768c051e",
   "metadata": {},
   "outputs": [],
   "source": [
    "from langchain.document_loaders import PyPDFLoader\n",
    "from langchain.vectorstores import FAISS\n",
    "from langchain.embeddings import OpenAIEmbeddings  # 또는 HuggingFaceEmbeddings\n",
    "\n",
    "# PDF 로딩\n",
    "loader = PyPDFLoader(\"../data/sleep_performance.pdf\")\n",
    "documents = loader.load_and_split()\n",
    "\n",
    "# 임베딩 생성\n",
    "embedding = OpenAIEmbeddings()  # .env에 API 키 필요!\n",
    "vectorstore = FAISS.from_documents(documents, embedding)\n",
    "\n",
    "# 저장\n",
    "vectorstore.save_local(\"vectorstores/sleep_rag\")\n"
   ]
  },
  {
   "cell_type": "code",
   "execution_count": 13,
   "id": "7ce485d1",
   "metadata": {},
   "outputs": [
    {
     "name": "stdout",
     "output_type": "stream",
     "text": [
      "이 연구는 수면부족이 운동 성능에 미치는 영향을 조사한 것으로, 670명의 참가자를 대상으로 45개의 연구를 분석하였습니다. 연구는 수면부족의 유형과 테스트 시간에 따라 성과에 미치는 영향을 살펴보았습니다. 수면부족은 최대 근력과 속도 성능에 영향을 미칠 수 있음을 보여주었으며, 이를 통해 수면 부족이 운동 능력에 미치는 다양한 측면을 이해하는 데 도움이 되었습니다. 연구는 표준화된 추출 형식을 사용하여 데이터를 관리하고, 방법론적 품질을 평가하기 위해 Cochrane Collaboration risk of bias (RoB) 2.0 도구를 사용했습니다. 결과는 수면부족이 운동 능력에 영향을 미칠 수 있음을 시사하며, 이를 통해 운동 선수와 건강한 비운동자 간의 차이, 수면부족 유형 및 테스트 시간에 따른 영향을 살펴보았습니다.\n"
     ]
    }
   ],
   "source": [
    "from langchain.vectorstores import FAISS\n",
    "from langchain.chat_models import ChatOpenAI\n",
    "from langchain.chains import RetrievalQA\n",
    "\n",
    "# 벡터 DB 로딩\n",
    "vectorstore = FAISS.load_local(\n",
    "    \"vectorstores/sleep_rag\",\n",
    "    embeddings=embedding,\n",
    "    allow_dangerous_deserialization=True\n",
    ")\n",
    "retriever = vectorstore.as_retriever()\n",
    "\n",
    "# LLM 설정\n",
    "llm = ChatOpenAI(temperature=0, model=\"gpt-3.5-turbo\")\n",
    "\n",
    "# RAG 체인 생성\n",
    "rag_chain = RetrievalQA.from_chain_type(\n",
    "    llm=llm,\n",
    "    retriever=retriever,\n",
    "    return_source_documents=True\n",
    ")\n",
    "\n",
    "# 질의 실행\n",
    "query = \"문서의 내용을 요약해줘\"\n",
    "response = rag_chain(query)\n",
    "print(response[\"result\"])\n"
   ]
  },
  {
   "cell_type": "code",
   "execution_count": null,
   "id": "b56ba1c3",
   "metadata": {},
   "outputs": [],
   "source": []
  }
 ],
 "metadata": {
  "kernelspec": {
   "display_name": "langchain-basic-2-xujkvS_f-py3.12",
   "language": "python",
   "name": "python3"
  },
  "language_info": {
   "codemirror_mode": {
    "name": "ipython",
    "version": 3
   },
   "file_extension": ".py",
   "mimetype": "text/x-python",
   "name": "python",
   "nbconvert_exporter": "python",
   "pygments_lexer": "ipython3",
   "version": "3.12.10"
  }
 },
 "nbformat": 4,
 "nbformat_minor": 5
}
