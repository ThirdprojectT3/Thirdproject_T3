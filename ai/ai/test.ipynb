{
 "cells": [
  {
   "cell_type": "code",
   "execution_count": 1,
   "id": "6ce77f3a",
   "metadata": {},
   "outputs": [],
   "source": [
    "from dotenv import load_dotenv\n",
    "import os\n",
    "\n",
    "load_dotenv()  # .env 파일 자동으로 루트에서 찾아서 로드\n",
    "api_key = os.getenv(\"OPENAI_API_KEY\")"
   ]
  },
  {
   "cell_type": "code",
   "execution_count": 3,
   "id": "768c051e",
   "metadata": {},
   "outputs": [],
   "source": [
    "from langchain.document_loaders import PyPDFLoader\n",
    "from langchain.vectorstores import FAISS\n",
    "from langchain.embeddings import OpenAIEmbeddings  # 또는 HuggingFaceEmbeddings\n",
    "\n",
    "# PDF 로딩\n",
    "loader = PyPDFLoader(\"../data/sleep_performance.pdf\")\n",
    "documents = loader.load_and_split()\n",
    "\n",
    "# 임베딩 생성\n",
    "embedding = OpenAIEmbeddings()  # .env에 API 키 필요!\n",
    "vectorstore = FAISS.from_documents(documents, embedding)\n",
    "\n",
    "# 저장\n",
    "vectorstore.save_local(\"vectorstores/sleep_rag\")\n"
   ]
  },
  {
   "cell_type": "code",
   "execution_count": 4,
   "id": "7ce485d1",
   "metadata": {},
   "outputs": [
    {
     "name": "stderr",
     "output_type": "stream",
     "text": [
      "C:\\Users\\user\\AppData\\Local\\Temp\\ipykernel_19836\\1859890952.py:14: LangChainDeprecationWarning: The class `ChatOpenAI` was deprecated in LangChain 0.0.10 and will be removed in 1.0. An updated version of the class exists in the :class:`~langchain-openai package and should be used instead. To use it run `pip install -U :class:`~langchain-openai` and import as `from :class:`~langchain_openai import ChatOpenAI``.\n",
      "  llm = ChatOpenAI(temperature=0, model=\"gpt-3.5-turbo\")\n",
      "C:\\Users\\user\\AppData\\Local\\Temp\\ipykernel_19836\\1859890952.py:25: LangChainDeprecationWarning: The method `Chain.__call__` was deprecated in langchain 0.1.0 and will be removed in 1.0. Use :meth:`~invoke` instead.\n",
      "  response = rag_chain(query)\n"
     ]
    },
    {
     "name": "stdout",
     "output_type": "stream",
     "text": [
      "이 연구는 수면부족이 운동 성능에 미치는 영향을 조사한 것으로, 670명의 참가자를 대상으로 45개의 연구를 분석하였습니다. 연구에서는 유산소 및 무산소 지구력, 최대 힘, 폭발적 힘, 속도, 기술 통제, 지각된 노력 등의 결과 지표를 분석하였습니다. 수면부족은 유산소 지구력에 부정적인 영향을 미치는 것으로 나타났으며, 특히 오후 시간대에 테스트를 실시한 경우 더 큰 영향을 미쳤습니다. 무산소 지구력에 대한 영향은 통계적으로 유의하지 않았습니다. 연구에서는 다양한 요인들이 수면부족이 운동 성능에 미치는 영향을 조사하기 위해 부속 분석을 실시하였습니다.\n"
     ]
    }
   ],
   "source": [
    "from langchain.vectorstores import FAISS\n",
    "from langchain.chat_models import ChatOpenAI\n",
    "from langchain.chains import RetrievalQA\n",
    "\n",
    "# 벡터 DB 로딩\n",
    "vectorstore = FAISS.load_local(\n",
    "    \"vectorstores/sleep_rag\",\n",
    "    embeddings=embedding,\n",
    "    allow_dangerous_deserialization=True\n",
    ")\n",
    "retriever = vectorstore.as_retriever()\n",
    "\n",
    "# LLM 설정\n",
    "llm = ChatOpenAI(temperature=0, model=\"gpt-3.5-turbo\")\n",
    "\n",
    "# RAG 체인 생성\n",
    "rag_chain = RetrievalQA.from_chain_type(\n",
    "    llm=llm,\n",
    "    retriever=retriever,\n",
    "    return_source_documents=True\n",
    ")\n",
    "\n",
    "# 질의 실행\n",
    "query = \"문서의 내용을 요약해줘\"\n",
    "response = rag_chain(query)\n",
    "print(response[\"result\"])\n"
   ]
  },
  {
   "cell_type": "code",
   "execution_count": null,
   "id": "b56ba1c3",
   "metadata": {},
   "outputs": [],
   "source": []
  }
 ],
 "metadata": {
  "kernelspec": {
   "display_name": "langchain-basic-kGdHTiMZ-py3.12",
   "language": "python",
   "name": "python3"
  },
  "language_info": {
   "codemirror_mode": {
    "name": "ipython",
    "version": 3
   },
   "file_extension": ".py",
   "mimetype": "text/x-python",
   "name": "python",
   "nbconvert_exporter": "python",
   "pygments_lexer": "ipython3",
   "version": "3.12.7"
  }
 },
 "nbformat": 4,
 "nbformat_minor": 5
}
